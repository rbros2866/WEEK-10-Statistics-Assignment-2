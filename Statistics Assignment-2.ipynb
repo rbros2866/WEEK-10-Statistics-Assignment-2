{
 "cells": [
  {
   "cell_type": "markdown",
   "metadata": {},
   "source": [
    "**Q1.** What are the three measures of central tendency?"
   ]
  },
  {
   "cell_type": "markdown",
   "metadata": {},
   "source": [
    "**Mean:** The average value of a dataset, calculated by summing all values and dividing by the total number of values.\n",
    "\n",
    "**Median:** The middle value of a dataset when it's ordered. If there's an even number of values, the median is the average of the two middle values.\n",
    "\n",
    "**Mode:** The value that appears most frequently in a dataset. There can be one mode, more than one mode (multimodal), or no mode if all values are unique."
   ]
  },
  {
   "cell_type": "markdown",
   "metadata": {},
   "source": [
    "**Q2.** What is the difference between the mean, median, and mode? How are they used to measure the\n",
    "central tendency of a dataset?"
   ]
  },
  {
   "cell_type": "markdown",
   "metadata": {},
   "source": [
    "**Mean:**\n",
    "\n",
    "Definition: The sum of all values divided by the total number of values.\n",
    "\n",
    "Sensitivity to Outliers: Sensitive to extreme values (outliers).\n",
    "\n",
    "Use: Provides a balanced average but **can be influenced by outliers.**\n",
    "\n",
    "**Median:**\n",
    "\n",
    "Definition: The middle value of an ordered dataset. If even values, the average of two middle values.\n",
    "\n",
    "Sensitivity to Outliers: Less sensitive to outliers; robust measure.\n",
    "\n",
    "Use: Represents a central value, **suitable for skewed distributions and data with outliers.**\n",
    "\n",
    "**Mode:**\n",
    "\n",
    "Definition: The value that appears most frequently in a dataset.\n",
    "\n",
    "Sensitivity to Outliers: Not sensitive to outliers; unaffected by extreme values.\n",
    "\n",
    "Use: Identifies the most common value(s), especially in categorical or discrete data."
   ]
  },
  {
   "cell_type": "markdown",
   "metadata": {},
   "source": [
    "**Q3.** Measure the three measures of central tendency for the given height data:\n",
    "\n",
    "[178,177,176,177,178.2,178,175,179,180,175,178.9,176.2,177,172.5,178,176.5]"
   ]
  },
  {
   "cell_type": "code",
   "execution_count": 1,
   "metadata": {},
   "outputs": [
    {
     "name": "stdout",
     "output_type": "stream",
     "text": [
      "Mean: 177.01875\n",
      "Median: 177.0\n",
      "Mode: 177.0\n"
     ]
    },
    {
     "name": "stderr",
     "output_type": "stream",
     "text": [
      "C:\\Users\\rbrot\\AppData\\Local\\Temp\\ipykernel_101260\\1011781813.py:17: FutureWarning: Unlike other reduction functions (e.g. `skew`, `kurtosis`), the default behavior of `mode` typically preserves the axis it acts along. In SciPy 1.11.0, this behavior will change: the default value of `keepdims` will become False, the `axis` over which the statistic is taken will be eliminated, and the value None will no longer be accepted. Set `keepdims` to True or False to avoid this warning.\n",
      "  mode_height = stats.mode(height_data)\n"
     ]
    }
   ],
   "source": [
    "\n",
    "import numpy as np\n",
    "from scipy import stats\n",
    "\n",
    "height_data = [178, 177, 176, 177, 178.2, 178, 175, 179, 180, 175, 178.9, 176.2, 177, 172.5, 178, 176.5]\n",
    "\n",
    "# Mean\n",
    "mean_height = np.mean(height_data)\n",
    "print(\"Mean:\", mean_height)\n",
    "\n",
    "# Median\n",
    "median_height = np.median(height_data)\n",
    "print(\"Median:\", median_height)\n",
    "\n",
    "# Mode\n",
    "try:\n",
    "    mode_height = stats.mode(height_data)\n",
    "    print(\"Mode:\", mode_height.mode[0])\n",
    "except stats.StatisticsError:\n",
    "    print(\"Mode: No mode\")\n"
   ]
  },
  {
   "cell_type": "markdown",
   "metadata": {},
   "source": [
    "**Q4.** Find the standard deviation for the given data:\n",
    "\n",
    "[178,177,176,177,178.2,178,175,179,180,175,178.9,176.2,177,172.5,178,176.5]"
   ]
  },
  {
   "cell_type": "code",
   "execution_count": 5,
   "metadata": {},
   "outputs": [
    {
     "name": "stdout",
     "output_type": "stream",
     "text": [
      "Standard Deviation: 1.7885814036548633\n"
     ]
    }
   ],
   "source": [
    "import numpy as np\n",
    "\n",
    "data = [178, 177, 176, 177, 178.2, 178, 175, 179, 180, 175, 178.9, 176.2, 177, 172.5, 178, 176.5]\n",
    "\n",
    "mean = np.mean(data)\n",
    "squared_diff = [(x - mean) ** 2 for x in data]\n",
    "mean_squared_diff = np.mean(squared_diff)\n",
    "std_deviation = np.sqrt(mean_squared_diff)\n",
    "\n",
    "print(\"Standard Deviation:\", std_deviation)\n"
   ]
  },
  {
   "cell_type": "code",
   "execution_count": 6,
   "metadata": {},
   "outputs": [
    {
     "name": "stdout",
     "output_type": "stream",
     "text": [
      "Standard Deviation: 1.7885814036548633\n"
     ]
    }
   ],
   "source": [
    "std_deviation = np.std(data)\n",
    "\n",
    "print(\"Standard Deviation:\", std_deviation)"
   ]
  },
  {
   "cell_type": "markdown",
   "metadata": {},
   "source": [
    "**Q5.** How are measures of dispersion such as range, variance, and standard deviation used to describe\n",
    "the spread of a dataset? Provide an example."
   ]
  },
  {
   "cell_type": "markdown",
   "metadata": {},
   "source": [
    "**Range:**\n",
    "\n",
    "Definition: The difference between the maximum and minimum values in a dataset.\n",
    "\n",
    "Use: Provides a simple measure of the data's spread but is sensitive to outliers.\n",
    "\n",
    "Example: If the range of test scores in a class is 40 (from 60 to 100), it indicates that scores are spread across a wide range.\n",
    "\n",
    "**Variance:**\n",
    "\n",
    "Definition: The average of squared differences between each data point and the mean.\n",
    "\n",
    "Use: Quantifies the dispersion of data points around the mean.\n",
    "\n",
    "Example: In a dataset of exam scores, a higher variance indicates that scores are more spread out from the average, reflecting greater variability.\n",
    "\n",
    "**Standard Deviation:**\n",
    "\n",
    "Definition: Square root of the variance; represents the typical deviation from the mean.\n",
    "\n",
    "Use: Offers a more interpretable measure of spread than variance.\n",
    "\n",
    "Example: For a set of company profits, a higher standard deviation implies more fluctuation in earnings, showing greater business risk.\n",
    "\n",
    "**Example:**\n",
    "Consider two datasets of exam scores:\n",
    "\n",
    "Dataset A: [85, 88, 90, 87, 89],\n",
    "Dataset B: [60, 75, 85, 95, 110]\n",
    "\n",
    "**Range:**\n",
    "\n",
    "Range of Dataset A: 90 - 85 = 5\n",
    "\n",
    "Range of Dataset B: 110 - 60 = 50\n",
    "\n",
    "**Interpretation:** Dataset B has a wider spread than Dataset A.\n",
    "\n",
    "**Variance and Standard Deviation:**\n",
    "\n",
    "Variance and standard deviation for Dataset A: Lower values due to less variation.\n",
    "\n",
    "Variance and standard deviation for Dataset B: Higher values due to wider spread.\n",
    "\n",
    "**Interpretation:** Dataset B has more dispersed scores compared to Dataset A."
   ]
  },
  {
   "cell_type": "markdown",
   "metadata": {},
   "source": [
    "**Q6.** What is a Venn diagram?"
   ]
  },
  {
   "cell_type": "markdown",
   "metadata": {},
   "source": [
    "A Venn diagram is a visual tool that uses overlapping circles or shapes to show relationships and commonalities between different sets or categories. It helps illustrate intersections and differences among groups of items or concepts."
   ]
  },
  {
   "cell_type": "markdown",
   "metadata": {},
   "source": [
    "**Q7.** For the two given sets A = (2,3,4,5,6,7) & B = (0,2,6,8,10).\n",
    " Find:\n",
    "\n",
    "(i) A B\n",
    "\n",
    "(ii) A ⋃ B"
   ]
  },
  {
   "cell_type": "markdown",
   "metadata": {},
   "source": [
    "**(i) A ∩ B (Intersection of A and B):**\n",
    "\n",
    "A ∩ B represents the elements that are common to both sets A and B.\n",
    "\n",
    "In this case, the common element is 2 and 6.\n",
    "\n",
    "A ∩ B = {2,6}\n",
    "\n",
    "**(ii)** A ∪ B (Union of A and B):\n",
    "\n",
    "A ∪ B represents the combination of all unique elements from sets A and B.\n",
    "\n",
    "Combined set = {0, 2, 3, 4, 5, 6, 7, 8, 10}\n",
    "\n",
    "A ∪ B = {0, 2, 3, 4, 5, 6, 7, 8, 10}"
   ]
  },
  {
   "cell_type": "markdown",
   "metadata": {},
   "source": [
    "**Q8.** What do you understand about skewness in data?"
   ]
  },
  {
   "cell_type": "markdown",
   "metadata": {},
   "source": [
    "**Skewness in Data:**\n",
    "\n",
    "Measures the asymmetry of data distribution.\n",
    "\n",
    "Two types: positive skew (right skew) and negative skew (left skew).\n",
    "\n",
    "**Positive skew:** Longer tail on the right; mean > median.\n",
    "\n",
    "**Negative skew:** Longer tail on the left; mean < median.\n",
    "\n",
    "Impacts interpretation of central tendency and distribution shape.\n",
    "\n",
    "Visualized through histograms or density plots."
   ]
  },
  {
   "cell_type": "markdown",
   "metadata": {},
   "source": [
    "**Q9.** If a data is right skewed then what will be the position of median with respect to mean?"
   ]
  },
  {
   "cell_type": "markdown",
   "metadata": {},
   "source": [
    "In a right-skewed distribution:\n",
    "\n",
    "The tail of the distribution is elongated on the right side.\n",
    "\n",
    "Outliers or larger values are present on the right side, pulling the mean in that direction.\n",
    "\n",
    "As a result, the mean is dragged towards the right by the presence of these larger values.\n",
    "\n",
    "The median, being less sensitive to outliers, tends to stay closer to the center of the distribution.\n",
    "\n",
    "mean > median."
   ]
  },
  {
   "cell_type": "markdown",
   "metadata": {},
   "source": [
    "**Q10.** Explain the difference between covariance and correlation. How are these measures used in\n",
    "statistical analysis?"
   ]
  },
  {
   "cell_type": "markdown",
   "metadata": {},
   "source": [
    "**Covariance:**\n",
    "\n",
    "Measures how two variables change together.\n",
    "\n",
    "Indicates direction of linear relationship.\n",
    "\n",
    "Not standardized, affected by variable scales.\n",
    "\n",
    "**Correlation:**\n",
    "\n",
    "Measures strength and direction of linear relationship.\n",
    "\n",
    "Ranges from -1 to 1.\n",
    "\n",
    "Standardized, not affected by variable scales.\n",
    "\n",
    "**Usage in Statistical Analysis:**\n",
    "\n",
    "Covariance: Assess direction of relationship.\n",
    "\n",
    "Correlation: Assess strength and direction of relationship, useful for comparing relationships across datasets."
   ]
  },
  {
   "cell_type": "markdown",
   "metadata": {},
   "source": [
    "**Q11.** What is the formula for calculating the sample mean? Provide an example calculation for a\n",
    "dataset."
   ]
  },
  {
   "cell_type": "markdown",
   "metadata": {},
   "source": [
    "S**ample Mean (x̄) = (Sum of all values) / (Number of values - 1)**\n",
    "\n",
    "Example:\n",
    "\n",
    "Suppose we have a dataset of test scores: [85, 92, 78, 89, 95, 88]\n",
    "\n",
    "Add up all the values: 85 + 92 + 78 + 89 + 95 + 88 = 527\n",
    "\n",
    "Count the number of values: 6\n",
    "\n",
    "Calculate the sample mean with correction for bias: x̄ = 527 / (6 - 1) = 105.4\n",
    "\n",
    "So, using Bessel's correction, the sample mean of the test scores is 105.4."
   ]
  },
  {
   "cell_type": "markdown",
   "metadata": {},
   "source": [
    "**Q12.** For a normal distribution data what is the relationship between its measure of central tendency?"
   ]
  },
  {
   "cell_type": "markdown",
   "metadata": {},
   "source": [
    "For a normal distribution, the relationship between measures of central tendency (mean, median, mode) is:\n",
    "\n",
    "Mean = Median = Mode\n",
    "\n",
    "They are all equal.\n",
    "\n",
    "Located at the center due to distribution's symmetry."
   ]
  },
  {
   "cell_type": "markdown",
   "metadata": {},
   "source": [
    "**Q13.** How is covariance different from correlation?"
   ]
  },
  {
   "cell_type": "markdown",
   "metadata": {},
   "source": [
    "**Covariance:** Covariance is a statistical measure that indicates how two variables change together. It quantifies the direction of the linear relationship between them.\n",
    "\n",
    "Measures linear relationship direction.\n",
    "\n",
    "Positive or negative values.\n",
    "\n",
    "Not standardized.\n",
    "\n",
    "Sensitive to variable scales.\n",
    "\n",
    "No fixed range.\n",
    "\n",
    "**Correlation:** Correlation is a statistical measure that quantifies both the strength and direction of the linear relationship between two variables.\n",
    "\n",
    "Measures linear relationship strength and direction.\n",
    "\n",
    "Ranges from -1 to 1.\n",
    "\n",
    "Standardized.\n",
    "\n",
    "Not affected by variable scales.\n",
    "\n",
    "Fixed range for easy comparison."
   ]
  },
  {
   "cell_type": "markdown",
   "metadata": {},
   "source": [
    "**Q14.** How do outliers affect measures of central tendency and dispersion? Provide an example."
   ]
  },
  {
   "cell_type": "markdown",
   "metadata": {},
   "source": [
    "**Measures of Central Tendency:**\n",
    "\n",
    "Outliers can significantly affect measures of central tendency, such as the mean and median:\n",
    "\n",
    "Mean: Outliers can distort the mean towards their extreme values. If there are outliers with very high or very low values, the mean may no longer represent the typical value of the majority of data points.\n",
    "\n",
    "Median: The median is less affected by outliers. Outliers do not influence the median's value unless they fall within the middle of the dataset, which is less common.\n",
    "\n",
    "**Measures of Dispersion:**\n",
    "\n",
    "Outliers can also impact measures of dispersion, such as the range, variance, and standard deviation:\n",
    "\n",
    "Range: Outliers can significantly expand the range, making it appear that the data is more spread out than it actually is.\n",
    "\n",
    "Variance and Standard Deviation: Outliers can lead to larger values of variance and standard deviation, indicating higher variability even if the majority of data points are close together."
   ]
  },
  {
   "cell_type": "code",
   "execution_count": 7,
   "metadata": {},
   "outputs": [
    {
     "name": "stdout",
     "output_type": "stream",
     "text": [
      "With Outlier:\n",
      "Mean: 31571.428571428572\n",
      "Median: 29000.0\n",
      "Range: 25000\n",
      "Variance: 70952380.95238096\n",
      "Standard Deviation: 8423.323628614833\n",
      "\n",
      "Without Outlier:\n",
      "Mean: 28500.0\n",
      "Median: 28500.0\n",
      "Range: 7000\n",
      "Variance: 5900000.0\n",
      "Standard Deviation: 2428.9915602982237\n"
     ]
    }
   ],
   "source": [
    "import numpy as np\n",
    "\n",
    "# Dataset with and without an outlier\n",
    "data_with_outlier = np.array([25000, 30000, 32000, 28000, 29000, 27000, 50000])\n",
    "data_without_outlier = np.array([25000, 30000, 32000, 28000, 29000, 27000])\n",
    "\n",
    "# Calculate mean, median, range, variance, and standard deviation\n",
    "def calculate_stats(data):\n",
    "    mean = np.mean(data)\n",
    "    median = np.median(data)\n",
    "    range_val = np.max(data) - np.min(data)\n",
    "    variance = np.var(data, ddof=1)  # Bessel's correction\n",
    "    std_deviation = np.std(data, ddof=1)\n",
    "    return mean, median, range_val, variance, std_deviation\n",
    "\n",
    "# Calculate statistics for both datasets\n",
    "mean_with_outlier, median_with_outlier, range_with_outlier, variance_with_outlier, std_deviation_with_outlier = calculate_stats(data_with_outlier)\n",
    "\n",
    "mean_without_outlier, median_without_outlier, range_without_outlier, variance_without_outlier, std_deviation_without_outlier = calculate_stats(data_without_outlier)\n",
    "\n",
    "\n",
    "print(\"With Outlier:\")\n",
    "print(\"Mean:\", mean_with_outlier)\n",
    "print(\"Median:\", median_with_outlier)\n",
    "print(\"Range:\", range_with_outlier)\n",
    "print(\"Variance:\", variance_with_outlier)\n",
    "print(\"Standard Deviation:\", std_deviation_with_outlier)\n",
    "\n",
    "print(\"\\nWithout Outlier:\")\n",
    "print(\"Mean:\", mean_without_outlier)\n",
    "print(\"Median:\", median_without_outlier)\n",
    "print(\"Range:\", range_without_outlier)\n",
    "print(\"Variance:\", variance_without_outlier)\n",
    "print(\"Standard Deviation:\", std_deviation_without_outlier)\n"
   ]
  },
  {
   "cell_type": "code",
   "execution_count": null,
   "metadata": {},
   "outputs": [],
   "source": []
  }
 ],
 "metadata": {
  "kernelspec": {
   "display_name": "Python 3",
   "language": "python",
   "name": "python3"
  },
  "language_info": {
   "codemirror_mode": {
    "name": "ipython",
    "version": 3
   },
   "file_extension": ".py",
   "mimetype": "text/x-python",
   "name": "python",
   "nbconvert_exporter": "python",
   "pygments_lexer": "ipython3",
   "version": "3.11.1"
  },
  "orig_nbformat": 4
 },
 "nbformat": 4,
 "nbformat_minor": 2
}
